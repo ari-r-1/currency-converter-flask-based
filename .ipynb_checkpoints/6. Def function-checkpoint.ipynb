{
 "cells": [
  {
   "cell_type": "markdown",
   "id": "c1be1a54-c393-4020-a037-13362ddd5b66",
   "metadata": {},
   "source": [
    "### Def Function Excersice"
   ]
  },
  {
   "cell_type": "markdown",
   "id": "532323fb-7204-4223-88bc-59e271c4421a",
   "metadata": {},
   "source": [
    "### Loan Payment Calculator"
   ]
  },
  {
   "cell_type": "code",
   "execution_count": 6,
   "id": "347c342e-10c8-47a8-ab5b-6a3590e971b7",
   "metadata": {},
   "outputs": [
    {
     "name": "stdout",
     "output_type": "stream",
     "text": [
      "-----Welcome to loan payment calculator!-----\n",
      "\n"
     ]
    },
    {
     "name": "stdin",
     "output_type": "stream",
     "text": [
      "Enter the loan amount: ₹ 5000\n",
      "Enter the loan interest rate(%):  20\n",
      "Enter the loan term(in year):  1\n"
     ]
    },
    {
     "name": "stdout",
     "output_type": "stream",
     "text": [
      "--------------------------------------\n",
      "\n",
      "Your estimated monthly payment is: ₹463.17\n"
     ]
    }
   ],
   "source": [
    "# Using Def function with loan payment calculator\n",
    "# Def function\n",
    "def loan_payment_calculator(loan_amount, annual_interest_rate, year):\n",
    "    \n",
    "    # Monthly interest formula\n",
    "    monthly_interest_rate = annual_interest_rate / 12 / 100\n",
    "\n",
    "    # Total loan tenure\n",
    "    number_of_payments = year * 12\n",
    "\n",
    "    # If condition interest = 0\n",
    "    if annual_interest_rate == 0:\n",
    "        monthly_payment = loan_amount / number_of_payments\n",
    "        return monthly_payment\n",
    "    # Interest > 0\n",
    "    else:\n",
    "        monthly_payment = (loan_amount * monthly_interest_rate) / (1 - (1 + monthly_interest_rate)** -number_of_payments)\n",
    "        return monthly_payment\n",
    "\n",
    "# Main function\n",
    "print(\"-----Welcome to loan payment calculator!-----\\n\")\n",
    "loan = float(input(\"Enter the loan amount: ₹\"))\n",
    "interest = float(input(\"Enter the loan interest rate(%): \"))\n",
    "term = int(input(\"Enter the loan term(in year): \"))\n",
    "\n",
    "payment = loan_payment_calculator(loan, interest, term)\n",
    "\n",
    "print(\"--------------------------------------\\n\")\n",
    "print(f\"Your estimated monthly payment is: ₹{payment:.2f}\")"
   ]
  },
  {
   "cell_type": "markdown",
   "id": "305cd297-ae50-4846-a007-134dd50c8017",
   "metadata": {},
   "source": [
    "### Currency Converter "
   ]
  },
  {
   "cell_type": "code",
   "execution_count": 22,
   "id": "4892e892-fad9-4ddb-9cee-c2371cbac929",
   "metadata": {},
   "outputs": [
    {
     "name": "stdout",
     "output_type": "stream",
     "text": [
      "-----Welcome To Currency Converter-----\n",
      "\n",
      "Available currencies to exchange USD, INR, EUR, YUAN, YEN, WON, DIRHAM, POUND\n",
      "\n"
     ]
    },
    {
     "name": "stdin",
     "output_type": "stream",
     "text": [
      "Enter the exchange amount:  100\n",
      "From Currency(eg:..INR,):  inr\n",
      "To Currency(eg:..USD,):  usd\n"
     ]
    },
    {
     "name": "stdout",
     "output_type": "stream",
     "text": [
      "\n",
      "100.0 INR ----> 1.17 USD\n"
     ]
    }
   ],
   "source": [
    "# Old My code\n",
    "# Using def function with currency convertor\n",
    "# Def function\n",
    "def currency_converter(amount, from_currency, to_currency):\n",
    "    exchange_rate = {\n",
    "        'USD':1.00,\n",
    "        'INR':85.60,    # 1 USD = 85.60 INR\n",
    "        'EUR':0.90,     # 1 USD = 0.90 EUR\n",
    "        'YUAN':7.21,    # 1 USD = 7.21 YUAN\n",
    "        'YEN':145.94,   # 1 USD = 145.94 YEN\n",
    "        'WON':1401.13,  # 1 USD = 141.13 WON\n",
    "        'DIRHAM':3.67,  # 1 USD = 3.67 DIRHAM\n",
    "        'POUND':0.75    # 1 USD = 0.75 POUND\n",
    "    }\n",
    "\n",
    "    # If condition currencies not in exchange rate\n",
    "    if (from_currency not in exchange_rate) or (to_currency not in exchange_rate):\n",
    "        return None\n",
    "\n",
    "    # Currency in exchange rate\n",
    "    else:\n",
    "        # First given amount convert to USD currency\n",
    "        amount_in_usd = amount / exchange_rate[from_currency]\n",
    "        # Covert to target currency\n",
    "        converted_currency = amount_in_usd * exchange_rate[to_currency]\n",
    "        return converted_currency\n",
    "\n",
    "# Main function\n",
    "print(\"-----Welcome To Currency Converter-----\\n\")\n",
    "print(\"Available currencies to exchange USD, INR, EUR, YUAN, YEN, WON, DIRHAM, POUND\\n\")\n",
    "amount = float(input(\"Enter the exchange amount: \"))\n",
    "from_curr = input(\"From Currency(eg:..INR,): \").upper()\n",
    "to_curr = input(\"To Currency(eg:..USD,): \").upper()\n",
    "\n",
    "result = currency_converter(amount, from_curr, to_curr)\n",
    "\n",
    "# If condition, result not in none\n",
    "if result is not None:\n",
    "    print(f\"\\n{amount} {from_curr} ----> {result:.2f} {to_curr}\")\n",
    "# result in none\n",
    "else:\n",
    "    print(\"\\nCurrency not supported\")"
   ]
  },
  {
   "cell_type": "code",
   "execution_count": 3,
   "id": "5cdcd551-ab3a-4d6d-9c61-8158752a2819",
   "metadata": {},
   "outputs": [
    {
     "name": "stdout",
     "output_type": "stream",
     "text": [
      "-----Welcome To Currency Converter-----\n",
      "\n",
      "Available currencies: USD, INR, EUR, YUAN, YEN, WON, DIRHAM, POUND\n",
      "\n"
     ]
    },
    {
     "name": "stdin",
     "output_type": "stream",
     "text": [
      "Enter the exchange amount:  1000\n",
      "From Currency (e.g. INR):  inr\n",
      "To Currency (e.g. USD):  usd\n"
     ]
    },
    {
     "name": "stdout",
     "output_type": "stream",
     "text": [
      "\n",
      "1000.0 INR ----> 11.68 USD\n"
     ]
    }
   ],
   "source": [
    "def get_exchange_rate():\n",
    "     return {\n",
    "        'USD': 1.00,\n",
    "        'INR': 85.60,\n",
    "        'EUR': 0.90,\n",
    "        'YUAN': 7.21,\n",
    "        'YEN': 145.94,\n",
    "        'WON': 1401.13,\n",
    "        'DIRHAM': 3.67,\n",
    "        'POUND': 0.75\n",
    "    }\n",
    "    \n",
    "\n",
    "def currency_converter(amount, from_currency, to_currency, rates):\n",
    "    if (from_currency not in rates) or (to_currency not in rates):\n",
    "        return None\n",
    "    else:\n",
    "        amount_in_usd = amount / rates[from_currency]\n",
    "        return amount_in_usd * rates[to_currency]\n",
    "\n",
    "def main():\n",
    "    print(\"-----Welcome To Currency Converter-----\\n\")\n",
    "    print(\"Available currencies: USD, INR, EUR, YUAN, YEN, WON, DIRHAM, POUND\\n\")\n",
    "\n",
    "    try:\n",
    "        amount = float(input(\"Enter the exchange amount: \"))\n",
    "        from_curr = input(\"From Currency (e.g. INR): \").upper()\n",
    "        to_curr = input(\"To Currency (e.g. USD): \").upper()\n",
    "\n",
    "        rates = get_exchange_rate()\n",
    "        result = currency_converter(amount, from_curr, to_curr, rates)\n",
    "\n",
    "        if result is not None:\n",
    "            print(f\"\\n{amount} {from_curr} ----> {result:.2f} {to_curr}\")\n",
    "        else:\n",
    "            print(\"\\nCurrency not supported.\")\n",
    "    except ValueError:\n",
    "        print(\"\\nInvalid amount. Please enter a number.\")\n",
    "\n",
    "if __name__ == \"__main__\":\n",
    "    main()"
   ]
  },
  {
   "cell_type": "code",
   "execution_count": null,
   "id": "604c882f-539b-4d4c-9564-a7b48f81548f",
   "metadata": {},
   "outputs": [],
   "source": [
    "import tkinter as tk\n",
    "from tkinter import ttk\n",
    "\n",
    "# Static exchange rates\n",
    "def get_exchange_rate():\n",
    "    return {\n",
    "        'USD': 1.00,\n",
    "        'INR': 85.60,\n",
    "        'EUR': 0.90,\n",
    "        'YUAN': 7.21,\n",
    "        'YEN': 145.94,\n",
    "        'WON': 1401.13,\n",
    "        'DIRHAM': 3.67,\n",
    "        'POUND': 0.75\n",
    "    }\n",
    "\n",
    "# Custom colored error popup\n",
    "def custom_error_popup(title, message):\n",
    "    popup = tk.Toplevel(root)\n",
    "    popup.title(title)\n",
    "    popup.geometry(\"300x150\")\n",
    "    popup.configure(bg=\"#ff4d4d\")  # Light red\n",
    "\n",
    "    tk.Label(popup, text=title, font=(\"Arial\", 14, \"bold\"), bg=\"#ff4d4d\", fg=\"white\").pack(pady=10)\n",
    "    tk.Label(popup, text=message, font=(\"Arial\", 11), bg=\"#ff4d4d\", fg=\"white\", wraplength=280).pack(pady=5)\n",
    "    tk.Button(popup, text=\"OK\", command=popup.destroy, bg=\"white\", fg=\"black\").pack(pady=10)\n",
    "\n",
    "# Convert button logic\n",
    "def convert_currency():\n",
    "    amount = entry_amount.get()\n",
    "    from_curr = combo_from.get()\n",
    "    to_curr = combo_to.get()\n",
    "\n",
    "    try:\n",
    "        amount = float(amount)\n",
    "        rates = get_exchange_rate()\n",
    "\n",
    "        if from_curr not in rates or to_curr not in rates:\n",
    "            custom_error_popup(\"Currency Error\", \"Selected currency is not supported.\")\n",
    "            return\n",
    "\n",
    "        # Convert to USD first, then to target currency\n",
    "        amount_in_usd = amount / rates[from_curr]\n",
    "        converted = amount_in_usd * rates[to_curr]\n",
    "\n",
    "        label_result.config(text=f\"{amount:.2f} {from_curr} = {converted:.2f} {to_curr}\")\n",
    "    except ValueError:\n",
    "        custom_error_popup(\"Invalid Input\", \"Please enter a valid number.\")\n",
    "\n",
    "# Tkinter GUI setup\n",
    "root = tk.Tk()\n",
    "root.title(\"Currency Converter\")\n",
    "root.geometry(\"400x300\")\n",
    "root.resizable(False, False)\n",
    "\n",
    "tk.Label(root, text=\"Currency Converter\", font=(\"Arial\", 16, \"bold\")).pack(pady=10)\n",
    "\n",
    "# Amount\n",
    "tk.Label(root, text=\"Amount:\").pack()\n",
    "entry_amount = tk.Entry(root)\n",
    "entry_amount.pack(pady=5)\n",
    "\n",
    "# From currency\n",
    "tk.Label(root, text=\"From Currency:\").pack()\n",
    "combo_from = ttk.Combobox(root, values=[\"USD\", \"INR\", \"EUR\", \"YUAN\", \"YEN\", \"WON\", \"DIRHAM\", \"POUND\"], state=\"readonly\")\n",
    "combo_from.pack()\n",
    "combo_from.set(\"INR\")\n",
    "\n",
    "# To currency\n",
    "tk.Label(root, text=\"To Currency:\").pack()\n",
    "combo_to = ttk.Combobox(root, values=[\"USD\", \"INR\", \"EUR\", \"YUAN\", \"YEN\", \"WON\", \"DIRHAM\", \"POUND\"], state=\"readonly\")\n",
    "combo_to.pack()\n",
    "combo_to.set(\"USD\")\n",
    "\n",
    "# Convert Button\n",
    "tk.Button(root, text=\"Convert\", command=convert_currency).pack(pady=10)\n",
    "\n",
    "# Result Label\n",
    "label_result = tk.Label(root, text=\"\", font=(\"Arial\", 12))\n",
    "label_result.pack(pady=10)\n",
    "\n",
    "root.mainloop()"
   ]
  },
  {
   "cell_type": "code",
   "execution_count": 1,
   "id": "92317008-2471-4549-8109-785d1e4ecef9",
   "metadata": {},
   "outputs": [
    {
     "name": "stdout",
     "output_type": "stream",
     "text": [
      "Collecting flask\n",
      "  Downloading flask-3.1.1-py3-none-any.whl.metadata (3.0 kB)\n",
      "Collecting blinker>=1.9.0 (from flask)\n",
      "  Downloading blinker-1.9.0-py3-none-any.whl.metadata (1.6 kB)\n",
      "Collecting click>=8.1.3 (from flask)\n",
      "  Downloading click-8.2.1-py3-none-any.whl.metadata (2.5 kB)\n",
      "Collecting itsdangerous>=2.2.0 (from flask)\n",
      "  Downloading itsdangerous-2.2.0-py3-none-any.whl.metadata (1.9 kB)\n",
      "Requirement already satisfied: jinja2>=3.1.2 in c:\\python\\lib\\site-packages (from flask) (3.1.6)\n",
      "Requirement already satisfied: markupsafe>=2.1.1 in c:\\python\\lib\\site-packages (from flask) (3.0.2)\n",
      "Collecting werkzeug>=3.1.0 (from flask)\n",
      "  Downloading werkzeug-3.1.3-py3-none-any.whl.metadata (3.7 kB)\n",
      "Requirement already satisfied: colorama in c:\\python\\lib\\site-packages (from click>=8.1.3->flask) (0.4.6)\n",
      "Downloading flask-3.1.1-py3-none-any.whl (103 kB)\n",
      "Downloading blinker-1.9.0-py3-none-any.whl (8.5 kB)\n",
      "Downloading click-8.2.1-py3-none-any.whl (102 kB)\n",
      "Downloading itsdangerous-2.2.0-py3-none-any.whl (16 kB)\n",
      "Downloading werkzeug-3.1.3-py3-none-any.whl (224 kB)\n",
      "Installing collected packages: werkzeug, itsdangerous, click, blinker, flask\n",
      "\n",
      "   ---------------------------------------- 0/5 [werkzeug]\n",
      "   ---------------------------------------- 0/5 [werkzeug]\n",
      "   ---------------------------------------- 0/5 [werkzeug]\n",
      "   ---------------------------------------- 0/5 [werkzeug]\n",
      "   ---------------------------------------- 0/5 [werkzeug]\n",
      "   -------- ------------------------------- 1/5 [itsdangerous]\n",
      "   ---------------- ----------------------- 2/5 [click]\n",
      "   ---------------- ----------------------- 2/5 [click]\n",
      "   ------------------------ --------------- 3/5 [blinker]\n",
      "   -------------------------------- ------- 4/5 [flask]\n",
      "   -------------------------------- ------- 4/5 [flask]\n",
      "   -------------------------------- ------- 4/5 [flask]\n",
      "   ---------------------------------------- 5/5 [flask]\n",
      "\n",
      "Successfully installed blinker-1.9.0 click-8.2.1 flask-3.1.1 itsdangerous-2.2.0 werkzeug-3.1.3\n",
      "Note: you may need to restart the kernel to use updated packages.\n"
     ]
    }
   ],
   "source": [
    "pip install flask"
   ]
  },
  {
   "cell_type": "code",
   "execution_count": 2,
   "id": "7ed7fbb8-b0e9-4ecf-b4e6-617a538fdce1",
   "metadata": {},
   "outputs": [
    {
     "name": "stdout",
     "output_type": "stream",
     "text": [
      " * Serving Flask app '__main__'\n",
      " * Debug mode: on\n"
     ]
    },
    {
     "name": "stderr",
     "output_type": "stream",
     "text": [
      "WARNING: This is a development server. Do not use it in a production deployment. Use a production WSGI server instead.\n",
      " * Running on http://127.0.0.1:5000\n",
      "Press CTRL+C to quit\n",
      " * Restarting with stat\n"
     ]
    },
    {
     "ename": "SystemExit",
     "evalue": "1",
     "output_type": "error",
     "traceback": [
      "An exception has occurred, use %tb to see the full traceback.\n",
      "\u001b[31mSystemExit\u001b[39m\u001b[31m:\u001b[39m 1\n"
     ]
    },
    {
     "name": "stderr",
     "output_type": "stream",
     "text": [
      "C:\\Python\\Lib\\site-packages\\IPython\\core\\interactiveshell.py:3678: UserWarning: To exit: use 'exit', 'quit', or Ctrl-D.\n",
      "  warn(\"To exit: use 'exit', 'quit', or Ctrl-D.\", stacklevel=1)\n"
     ]
    }
   ],
   "source": [
    "from flask import Flask, render_template, request\n",
    "\n",
    "app = Flask(__name__)\n",
    "\n",
    "exchange_rate = {\n",
    "    'USD': 1.00,\n",
    "    'INR': 85.60,\n",
    "    'EUR': 0.90,\n",
    "    'YUAN': 7.21,\n",
    "    'YEN': 145.94,\n",
    "    'WON': 1401.13,\n",
    "    'DIRHAM': 3.67,\n",
    "    'POUND': 0.75\n",
    "}\n",
    "\n",
    "def currency_converter(amount, from_currency, to_currency):\n",
    "    if (from_currency not in exchange_rate) or (to_currency not in exchange_rate):\n",
    "        return None\n",
    "    amount_in_usd = amount / exchange_rate[from_currency]\n",
    "    converted_currency = amount_in_usd * exchange_rate[to_currency]\n",
    "    return converted_currency\n",
    "\n",
    "@app.route('/', methods=['GET', 'POST'])\n",
    "def index():\n",
    "    result = None\n",
    "    error = None\n",
    "    if request.method == 'POST':\n",
    "        try:\n",
    "            amount = float(request.form['amount'])\n",
    "            from_curr = request.form['from_currency'].upper()\n",
    "            to_curr = request.form['to_currency'].upper()\n",
    "            result = currency_converter(amount, from_curr, to_curr)\n",
    "            if result is None:\n",
    "                error = \"Unsupported currency.\"\n",
    "        except ValueError:\n",
    "            error = \"Invalid amount entered.\"\n",
    "    return render_template('index.html', result=result, error=error, currencies=exchange_rate.keys())\n",
    "\n",
    "if __name__ == '__main__':\n",
    "    app.run(debug=True)\n"
   ]
  },
  {
   "cell_type": "code",
   "execution_count": 3,
   "id": "72b0e4c6-e876-46a2-8c25-76a4f6b1d69a",
   "metadata": {},
   "outputs": [
    {
     "name": "stdout",
     "output_type": "stream",
     "text": [
      "Collecting pyinstaller\n",
      "  Downloading pyinstaller-6.13.0-py3-none-win_amd64.whl.metadata (8.3 kB)\n",
      "Requirement already satisfied: setuptools>=42.0.0 in c:\\python\\lib\\site-packages (from pyinstaller) (80.3.1)\n",
      "Collecting altgraph (from pyinstaller)\n",
      "  Downloading altgraph-0.17.4-py2.py3-none-any.whl.metadata (7.3 kB)\n",
      "Collecting pefile!=2024.8.26,>=2022.5.30 (from pyinstaller)\n",
      "  Downloading pefile-2023.2.7-py3-none-any.whl.metadata (1.4 kB)\n",
      "Collecting pywin32-ctypes>=0.2.1 (from pyinstaller)\n",
      "  Downloading pywin32_ctypes-0.2.3-py3-none-any.whl.metadata (3.9 kB)\n",
      "Collecting pyinstaller-hooks-contrib>=2025.2 (from pyinstaller)\n",
      "  Downloading pyinstaller_hooks_contrib-2025.4-py3-none-any.whl.metadata (16 kB)\n",
      "Requirement already satisfied: packaging>=22.0 in c:\\python\\lib\\site-packages (from pyinstaller) (25.0)\n",
      "Downloading pyinstaller-6.13.0-py3-none-win_amd64.whl (1.4 MB)\n",
      "   ---------------------------------------- 0.0/1.4 MB ? eta -:--:--\n",
      "   ---------------------------------------- 1.4/1.4 MB 23.9 MB/s eta 0:00:00\n",
      "Downloading pefile-2023.2.7-py3-none-any.whl (71 kB)\n",
      "Downloading pyinstaller_hooks_contrib-2025.4-py3-none-any.whl (434 kB)\n",
      "Downloading pywin32_ctypes-0.2.3-py3-none-any.whl (30 kB)\n",
      "Downloading altgraph-0.17.4-py2.py3-none-any.whl (21 kB)\n",
      "Installing collected packages: altgraph, pywin32-ctypes, pyinstaller-hooks-contrib, pefile, pyinstaller\n",
      "\n",
      "   ---------------------------------------- 0/5 [altgraph]\n",
      "   -------- ------------------------------- 1/5 [pywin32-ctypes]\n",
      "   -------- ------------------------------- 1/5 [pywin32-ctypes]\n",
      "   -------- ------------------------------- 1/5 [pywin32-ctypes]\n",
      "   ---------------- ----------------------- 2/5 [pyinstaller-hooks-contrib]\n",
      "   ---------------- ----------------------- 2/5 [pyinstaller-hooks-contrib]\n",
      "   ---------------- ----------------------- 2/5 [pyinstaller-hooks-contrib]\n",
      "   ---------------- ----------------------- 2/5 [pyinstaller-hooks-contrib]\n",
      "   ---------------- ----------------------- 2/5 [pyinstaller-hooks-contrib]\n",
      "   ---------------- ----------------------- 2/5 [pyinstaller-hooks-contrib]\n",
      "   ---------------- ----------------------- 2/5 [pyinstaller-hooks-contrib]\n",
      "   ---------------- ----------------------- 2/5 [pyinstaller-hooks-contrib]\n",
      "   ---------------- ----------------------- 2/5 [pyinstaller-hooks-contrib]\n",
      "   ---------------- ----------------------- 2/5 [pyinstaller-hooks-contrib]\n",
      "   ---------------- ----------------------- 2/5 [pyinstaller-hooks-contrib]\n",
      "   ---------------- ----------------------- 2/5 [pyinstaller-hooks-contrib]\n",
      "   ---------------- ----------------------- 2/5 [pyinstaller-hooks-contrib]\n",
      "   ---------------- ----------------------- 2/5 [pyinstaller-hooks-contrib]\n",
      "   ---------------- ----------------------- 2/5 [pyinstaller-hooks-contrib]\n",
      "   ---------------- ----------------------- 2/5 [pyinstaller-hooks-contrib]\n",
      "   ---------------- ----------------------- 2/5 [pyinstaller-hooks-contrib]\n",
      "   ---------------- ----------------------- 2/5 [pyinstaller-hooks-contrib]\n",
      "   ---------------- ----------------------- 2/5 [pyinstaller-hooks-contrib]\n",
      "   ---------------- ----------------------- 2/5 [pyinstaller-hooks-contrib]\n",
      "   ---------------- ----------------------- 2/5 [pyinstaller-hooks-contrib]\n",
      "   ---------------- ----------------------- 2/5 [pyinstaller-hooks-contrib]\n",
      "   ---------------- ----------------------- 2/5 [pyinstaller-hooks-contrib]\n",
      "   ---------------- ----------------------- 2/5 [pyinstaller-hooks-contrib]\n",
      "   ---------------- ----------------------- 2/5 [pyinstaller-hooks-contrib]\n",
      "   ---------------- ----------------------- 2/5 [pyinstaller-hooks-contrib]\n",
      "   ---------------- ----------------------- 2/5 [pyinstaller-hooks-contrib]\n",
      "   ---------------- ----------------------- 2/5 [pyinstaller-hooks-contrib]\n",
      "   ---------------- ----------------------- 2/5 [pyinstaller-hooks-contrib]\n",
      "   ---------------- ----------------------- 2/5 [pyinstaller-hooks-contrib]\n",
      "   ---------------- ----------------------- 2/5 [pyinstaller-hooks-contrib]\n",
      "   ---------------- ----------------------- 2/5 [pyinstaller-hooks-contrib]\n",
      "   ---------------- ----------------------- 2/5 [pyinstaller-hooks-contrib]\n",
      "   ---------------- ----------------------- 2/5 [pyinstaller-hooks-contrib]\n",
      "   ---------------- ----------------------- 2/5 [pyinstaller-hooks-contrib]\n",
      "   ---------------- ----------------------- 2/5 [pyinstaller-hooks-contrib]\n",
      "   ---------------- ----------------------- 2/5 [pyinstaller-hooks-contrib]\n",
      "   ---------------- ----------------------- 2/5 [pyinstaller-hooks-contrib]\n",
      "   ---------------- ----------------------- 2/5 [pyinstaller-hooks-contrib]\n",
      "   ---------------- ----------------------- 2/5 [pyinstaller-hooks-contrib]\n",
      "   ---------------- ----------------------- 2/5 [pyinstaller-hooks-contrib]\n",
      "   ---------------- ----------------------- 2/5 [pyinstaller-hooks-contrib]\n",
      "   ---------------- ----------------------- 2/5 [pyinstaller-hooks-contrib]\n",
      "   ---------------- ----------------------- 2/5 [pyinstaller-hooks-contrib]\n",
      "   ---------------- ----------------------- 2/5 [pyinstaller-hooks-contrib]\n",
      "   ---------------- ----------------------- 2/5 [pyinstaller-hooks-contrib]\n",
      "   ---------------- ----------------------- 2/5 [pyinstaller-hooks-contrib]\n",
      "   ---------------- ----------------------- 2/5 [pyinstaller-hooks-contrib]\n",
      "   ---------------- ----------------------- 2/5 [pyinstaller-hooks-contrib]\n",
      "   ---------------- ----------------------- 2/5 [pyinstaller-hooks-contrib]\n",
      "   ---------------- ----------------------- 2/5 [pyinstaller-hooks-contrib]\n",
      "   ---------------- ----------------------- 2/5 [pyinstaller-hooks-contrib]\n",
      "   ------------------------ --------------- 3/5 [pefile]\n",
      "   -------------------------------- ------- 4/5 [pyinstaller]\n",
      "   -------------------------------- ------- 4/5 [pyinstaller]\n",
      "   -------------------------------- ------- 4/5 [pyinstaller]\n",
      "   -------------------------------- ------- 4/5 [pyinstaller]\n",
      "   -------------------------------- ------- 4/5 [pyinstaller]\n",
      "   -------------------------------- ------- 4/5 [pyinstaller]\n",
      "   -------------------------------- ------- 4/5 [pyinstaller]\n",
      "   -------------------------------- ------- 4/5 [pyinstaller]\n",
      "   -------------------------------- ------- 4/5 [pyinstaller]\n",
      "   -------------------------------- ------- 4/5 [pyinstaller]\n",
      "   -------------------------------- ------- 4/5 [pyinstaller]\n",
      "   -------------------------------- ------- 4/5 [pyinstaller]\n",
      "   -------------------------------- ------- 4/5 [pyinstaller]\n",
      "   -------------------------------- ------- 4/5 [pyinstaller]\n",
      "   -------------------------------- ------- 4/5 [pyinstaller]\n",
      "   -------------------------------- ------- 4/5 [pyinstaller]\n",
      "   -------------------------------- ------- 4/5 [pyinstaller]\n",
      "   -------------------------------- ------- 4/5 [pyinstaller]\n",
      "   -------------------------------- ------- 4/5 [pyinstaller]\n",
      "   -------------------------------- ------- 4/5 [pyinstaller]\n",
      "   -------------------------------- ------- 4/5 [pyinstaller]\n",
      "   -------------------------------- ------- 4/5 [pyinstaller]\n",
      "   -------------------------------- ------- 4/5 [pyinstaller]\n",
      "   -------------------------------- ------- 4/5 [pyinstaller]\n",
      "   -------------------------------- ------- 4/5 [pyinstaller]\n",
      "   -------------------------------- ------- 4/5 [pyinstaller]\n",
      "   -------------------------------- ------- 4/5 [pyinstaller]\n",
      "   -------------------------------- ------- 4/5 [pyinstaller]\n",
      "   -------------------------------- ------- 4/5 [pyinstaller]\n",
      "   -------------------------------- ------- 4/5 [pyinstaller]\n",
      "   -------------------------------- ------- 4/5 [pyinstaller]\n",
      "   -------------------------------- ------- 4/5 [pyinstaller]\n",
      "   -------------------------------- ------- 4/5 [pyinstaller]\n",
      "   -------------------------------- ------- 4/5 [pyinstaller]\n",
      "   -------------------------------- ------- 4/5 [pyinstaller]\n",
      "   -------------------------------- ------- 4/5 [pyinstaller]\n",
      "   ---------------------------------------- 5/5 [pyinstaller]\n",
      "\n",
      "Successfully installed altgraph-0.17.4 pefile-2023.2.7 pyinstaller-6.13.0 pyinstaller-hooks-contrib-2025.4 pywin32-ctypes-0.2.3\n",
      "Note: you may need to restart the kernel to use updated packages.\n"
     ]
    }
   ],
   "source": [
    "pip install pyinstaller"
   ]
  },
  {
   "cell_type": "code",
   "execution_count": 5,
   "id": "51ad6aed-0c0f-4d59-8b0e-e231f0f76cb5",
   "metadata": {},
   "outputs": [
    {
     "ename": "SyntaxError",
     "evalue": "invalid syntax (3821472448.py, line 1)",
     "output_type": "error",
     "traceback": [
      "  \u001b[36mCell\u001b[39m\u001b[36m \u001b[39m\u001b[32mIn[5]\u001b[39m\u001b[32m, line 1\u001b[39m\n\u001b[31m    \u001b[39m\u001b[31mpyinstaller --onefile --add-data \"templates;templates\" Currency_converter.py\u001b[39m\n                                     ^\n\u001b[31mSyntaxError\u001b[39m\u001b[31m:\u001b[39m invalid syntax\n"
     ]
    }
   ],
   "source": [
    "pyinstaller --onefile --add-data \"templates;templates\" Currency_converter.py"
   ]
  },
  {
   "cell_type": "code",
   "execution_count": null,
   "id": "551eb786-3088-47e9-b3d0-b47a4db71903",
   "metadata": {},
   "outputs": [],
   "source": []
  }
 ],
 "metadata": {
  "kernelspec": {
   "display_name": "Python 3 (ipykernel)",
   "language": "python",
   "name": "python3"
  },
  "language_info": {
   "codemirror_mode": {
    "name": "ipython",
    "version": 3
   },
   "file_extension": ".py",
   "mimetype": "text/x-python",
   "name": "python",
   "nbconvert_exporter": "python",
   "pygments_lexer": "ipython3",
   "version": "3.13.0"
  }
 },
 "nbformat": 4,
 "nbformat_minor": 5
}
